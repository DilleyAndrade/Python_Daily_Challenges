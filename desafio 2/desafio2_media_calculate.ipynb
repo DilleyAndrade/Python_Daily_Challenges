{
 "cells": [
  {
   "cell_type": "code",
   "execution_count": 2,
   "id": "34923eac",
   "metadata": {},
   "outputs": [
    {
     "name": "stdout",
     "output_type": "stream",
     "text": [
      "34.8\n"
     ]
    }
   ],
   "source": [
    "import csv\n",
    "import json\n",
    "\n",
    "with open('customers.csv', mode='r') as document:\n",
    "    reader = csv.reader(document)\n",
    "\n",
    "    iterator = 0\n",
    "    numbers = []\n",
    "    for row in reader:\n",
    "        iterator+=1\n",
    "\n",
    "        if iterator > 1:\n",
    "            numbers.append(int(row[3]))\n",
    "    media = sum(numbers)/len(numbers)\n",
    "    print(media)\n",
    "\n",
    "with open('media.json', mode='w') as jsonDocument:\n",
    "    json.dump({'media':media}, jsonDocument)"
   ]
  }
 ],
 "metadata": {
  "kernelspec": {
   "display_name": "base",
   "language": "python",
   "name": "python3"
  },
  "language_info": {
   "codemirror_mode": {
    "name": "ipython",
    "version": 3
   },
   "file_extension": ".py",
   "mimetype": "text/x-python",
   "name": "python",
   "nbconvert_exporter": "python",
   "pygments_lexer": "ipython3",
   "version": "3.12.7"
  }
 },
 "nbformat": 4,
 "nbformat_minor": 5
}
